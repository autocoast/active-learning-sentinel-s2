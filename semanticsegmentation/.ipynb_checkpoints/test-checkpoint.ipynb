{
 "cells": [
  {
   "cell_type": "code",
   "execution_count": 15,
   "id": "b021a802-5d68-4c96-8bee-87304b9c7e15",
   "metadata": {},
   "outputs": [
    {
     "name": "stdout",
     "output_type": "stream",
     "text": [
      "[2024-11-02 18:35:54,799][HYDRA] Launching 1 jobs locally\n",
      "[2024-11-02 18:35:54,799][HYDRA] \t#0 : strategy_name=EntropySamplingDropout init_strategy=fps seed=1\n",
      "/home/g/g260217/.local/lib/python3.10/site-packages/hydra/_internal/core_plugins/basic_launcher.py:74: UserWarning: Future Hydra versions will no longer change working directory at job runtime by default.\n",
      "See https://hydra.cc/docs/1.2/upgrades/1.1_to_1.2/changes_to_job_working_dir/ for more information.\n",
      "  ret = run_job(\n",
      "32\n",
      "32\n",
      "number of labeled pool: 32\n",
      "number of unlabeled pool: 2445\n",
      "number of testing pool: 620\n",
      "\n",
      "Round 0\n",
      "  0%|                                                                        | 0/15 [00:00<?, ?it/s]/home/g/g260217/.local/lib/python3.10/site-packages/torch/autograd/graph.py:744: UserWarning: Plan failed with a cudnnException: CUDNN_BACKEND_EXECUTION_PLAN_DESCRIPTOR: cudnnFinalize Descriptor Failed cudnn_status: CUDNN_STATUS_NOT_SUPPORTED (Triggered internally at ../aten/src/ATen/native/cudnn/Conv_v8.cpp:919.)\n",
      "  return Variable._execution_engine.run_backward(  # Calls into the C++ engine to run the backward pass\n",
      "100%|███████████████████████████████████████████████████████████████| 15/15 [00:08<00:00,  1.72it/s]\n",
      "Round 0 testing accuracy: 0.08214542830248453\n",
      "Round 1\n",
      "100%|███████████████████████████████████████████████████████████████| 15/15 [00:09<00:00,  1.58it/s]\n",
      "Round 1 testing accuracy: 0.16904436690633823\n",
      "Round 2\n",
      "100%|███████████████████████████████████████████████████████████████| 15/15 [00:09<00:00,  1.54it/s]\n",
      "Round 2 testing accuracy: 0.1921684838848544\n",
      "Round 3\n",
      "100%|███████████████████████████████████████████████████████████████| 15/15 [00:10<00:00,  1.40it/s]\n",
      "Round 3 testing accuracy: 0.24121220879832697\n",
      "Round 4\n",
      "100%|███████████████████████████████████████████████████████████████| 15/15 [00:11<00:00,  1.31it/s]\n",
      "Round 4 testing accuracy: 0.20912447245544125\n",
      "Round 5\n",
      "100%|███████████████████████████████████████████████████████████████| 15/15 [00:12<00:00,  1.24it/s]\n",
      "Round 5 testing accuracy: 0.2606324614402856\n",
      "Round 6\n",
      "^C\n",
      "Traceback (most recent call last):\n",
      "  File \"/home/g/g260217/mc-dropout/paper_eurosat/algorithm/hydra-dw-2/demo.py\", line 70, in <module>\n",
      "    run_demo()\n",
      "  File \"/home/g/g260217/.local/lib/python3.10/site-packages/hydra/main.py\", line 94, in decorated_main\n",
      "    _run_hydra(\n",
      "  File \"/home/g/g260217/.local/lib/python3.10/site-packages/hydra/_internal/utils.py\", line 394, in _run_hydra\n",
      "    _run_app(\n",
      "  File \"/home/g/g260217/.local/lib/python3.10/site-packages/hydra/_internal/utils.py\", line 465, in _run_app\n",
      "    run_and_report(\n",
      "  File \"/home/g/g260217/.local/lib/python3.10/site-packages/hydra/_internal/utils.py\", line 220, in run_and_report\n",
      "    return func()\n",
      "  File \"/home/g/g260217/.local/lib/python3.10/site-packages/hydra/_internal/utils.py\", line 466, in <lambda>\n",
      "    lambda: hydra.multirun(\n",
      "  File \"/home/g/g260217/.local/lib/python3.10/site-packages/hydra/_internal/hydra.py\", line 162, in multirun\n",
      "    ret = sweeper.sweep(arguments=task_overrides)\n",
      "  File \"/home/g/g260217/.local/lib/python3.10/site-packages/hydra/_internal/core_plugins/basic_sweeper.py\", line 177, in sweep\n",
      "    results = self.launcher.launch(batch, initial_job_idx=initial_job_idx)\n",
      "  File \"/home/g/g260217/.local/lib/python3.10/site-packages/hydra/_internal/core_plugins/basic_launcher.py\", line 74, in launch\n",
      "    ret = run_job(\n",
      "  File \"/home/g/g260217/.local/lib/python3.10/site-packages/hydra/core/utils.py\", line 186, in run_job\n"
     ]
    }
   ],
   "source": [
    "!python demo.py -m strategy_name=BALDDropout init_strategy=fps seed=1"
   ]
  },
  {
   "cell_type": "code",
   "execution_count": 8,
   "id": "7481c18d-6b92-4edc-be96-107cc24b810a",
   "metadata": {},
   "outputs": [],
   "source": [
    "import numpy as np\n",
    "import torch\n",
    "import torch.nn as nn\n",
    "import torch.nn.functional as F\n",
    "import torch.optim as optim\n",
    "from torch.utils.data import DataLoader\n",
    "import torchvision\n",
    "from tqdm import tqdm\n",
    "\n",
    "class DW_Net(nn.Module):\n",
    "    def __init__(self):\n",
    "        super(DW_Net, self).__init__()\n",
    "        self.model = smp.Unet(\n",
    "            encoder_name=\"resnet18\",        \n",
    "            encoder_weights=\"imagenet\",\n",
    "            in_channels=13,                \n",
    "            classes=11                   \n",
    "        )\n",
    "        \n",
    "    def forward(self, x):\n",
    "        encoder_features = self.model.encoder(x)\n",
    "\n",
    "        encoder_features = list(encoder_features)\n",
    "        encoder_features[-1] = F.dropout(encoder_features[-1], p=0.5, training=self.training)\n",
    "        \n",
    "        y_pred = self.model.decoder(*encoder_features)\n",
    "        y_pred = self.model.segmentation_head(y_pred)\n",
    "\n",
    "        return y_pred"
   ]
  },
  {
   "cell_type": "code",
   "execution_count": 148,
   "id": "c1049845-4fac-4865-af4a-3d9e60c44d55",
   "metadata": {},
   "outputs": [
    {
     "name": "stdout",
     "output_type": "stream",
     "text": [
      "torch.Size([1, 13, 64, 64])\n"
     ]
    }
   ],
   "source": [
    "test = torch.zeros((1, 13, 64, 64))\n",
    "print(test.shape) \n",
    "dw = DW_Net() "
   ]
  },
  {
   "cell_type": "code",
   "execution_count": 149,
   "id": "d56c2e8c-8d4d-41eb-b2a9-4ad49753ca1f",
   "metadata": {},
   "outputs": [
    {
     "data": {
      "text/plain": [
       "torch.Size([1, 12, 64, 64])"
      ]
     },
     "execution_count": 149,
     "metadata": {},
     "output_type": "execute_result"
    }
   ],
   "source": [
    "dw.train()\n",
    "dw(test).shape"
   ]
  },
  {
   "cell_type": "code",
   "execution_count": null,
   "id": "4d15847c-ca3b-4115-a524-b93c1e1b6704",
   "metadata": {},
   "outputs": [],
   "source": []
  }
 ],
 "metadata": {
  "kernelspec": {
   "display_name": "1 Python 3 (based on the module python3/2023.01)",
   "language": "python",
   "name": "python3_2023_01"
  },
  "language_info": {
   "codemirror_mode": {
    "name": "ipython",
    "version": 3
   },
   "file_extension": ".py",
   "mimetype": "text/x-python",
   "name": "python",
   "nbconvert_exporter": "python",
   "pygments_lexer": "ipython3",
   "version": "3.10.10"
  }
 },
 "nbformat": 4,
 "nbformat_minor": 5
}
