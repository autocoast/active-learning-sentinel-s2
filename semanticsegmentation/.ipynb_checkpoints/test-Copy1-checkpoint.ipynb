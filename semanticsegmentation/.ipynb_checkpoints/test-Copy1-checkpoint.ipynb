{
 "cells": [
  {
   "cell_type": "code",
   "execution_count": null,
   "id": "b021a802-5d68-4c96-8bee-87304b9c7e15",
   "metadata": {},
   "outputs": [
    {
     "name": "stdout",
     "output_type": "stream",
     "text": [
      "[2024-10-31 16:29:55,608][HYDRA] Launching 1 jobs locally\n",
      "[2024-10-31 16:29:55,608][HYDRA] \t#0 : n_round=20 strategy_name=LeastConfidenceMocoMarginV2 init_strategy=kmeans seed=6\n",
      "/home/g/g260217/.local/lib/python3.10/site-packages/hydra/_internal/core_plugins/basic_launcher.py:74: UserWarning: Future Hydra versions will no longer change working directory at job runtime by default.\n",
      "See https://hydra.cc/docs/1.2/upgrades/1.1_to_1.2/changes_to_job_working_dir/ for more information.\n",
      "  ret = run_job(\n",
      "/sw/spack-levante/mambaforge-22.9.0-2-Linux-x86_64-kptncg/lib/python3.10/site-packages/sklearn/cluster/_kmeans.py:870: FutureWarning: The default value of `n_init` will change from 10 to 'auto' in 1.4. Set the value of `n_init` explicitly to suppress the warning\n",
      "  warnings.warn(\n",
      "number of labeled pool: 64\n",
      "number of unlabeled pool: 2413\n",
      "number of testing pool: 620\n",
      "\n",
      "Round 0\n",
      "  0%|                                                                        | 0/30 [00:00<?, ?it/s]/home/g/g260217/.local/lib/python3.10/site-packages/torch/autograd/graph.py:744: UserWarning: Plan failed with a cudnnException: CUDNN_BACKEND_EXECUTION_PLAN_DESCRIPTOR: cudnnFinalize Descriptor Failed cudnn_status: CUDNN_STATUS_NOT_SUPPORTED (Triggered internally at ../aten/src/ATen/native/cudnn/Conv_v8.cpp:919.)\n",
      "  return Variable._execution_engine.run_backward(  # Calls into the C++ engine to run the backward pass\n",
      "100%|███████████████████████████████████████████████████████████████| 30/30 [01:03<00:00,  2.11s/it]\n",
      "Round 0 testing accuracy: 0.441733125920839\n",
      "Round 1\n",
      "(array([0, 1, 2, 3, 4, 5, 6, 7, 8, 9]), array([ 3741636, 14251694,    14964,   302620,  1566867, 14029976,\n",
      "        2085410,  3284922,   256380,      123]))\n",
      "1012 / 2413 at borders\n",
      "selected 64 from border decisions\n",
      "  0%|                                                                        | 0/30 [00:00<?, ?it/s]/home/g/g260217/.local/lib/python3.10/site-packages/torch/autograd/graph.py:744: UserWarning: Plan failed with a cudnnException: CUDNN_BACKEND_EXECUTION_PLAN_DESCRIPTOR: cudnnFinalize Descriptor Failed cudnn_status: CUDNN_STATUS_NOT_SUPPORTED (Triggered internally at ../aten/src/ATen/native/cudnn/Conv_v8.cpp:919.)\n",
      "  return Variable._execution_engine.run_backward(  # Calls into the C++ engine to run the backward pass\n",
      "100%|███████████████████████████████████████████████████████████████| 30/30 [01:05<00:00,  2.18s/it]\n",
      "Round 1 testing accuracy: 0.5293265643573858\n",
      "Round 2\n",
      "(array([0, 1, 2, 3, 4, 5, 6, 7, 8, 9]), array([ 2452073, 13708444,   627284,   239743,  3913024,  9527022,\n",
      "        2025853,  5599642,   409307,        8]))\n",
      "1114 / 2350 at borders\n",
      "selected 64 from border decisions\n",
      "  0%|                                                                        | 0/30 [00:00<?, ?it/s]/home/g/g260217/.local/lib/python3.10/site-packages/torch/autograd/graph.py:744: UserWarning: Plan failed with a cudnnException: CUDNN_BACKEND_EXECUTION_PLAN_DESCRIPTOR: cudnnFinalize Descriptor Failed cudnn_status: CUDNN_STATUS_NOT_SUPPORTED (Triggered internally at ../aten/src/ATen/native/cudnn/Conv_v8.cpp:919.)\n",
      "  return Variable._execution_engine.run_backward(  # Calls into the C++ engine to run the backward pass\n",
      " 87%|██████████████████████████████████████████████████████▌        | 26/30 [01:01<00:09,  2.49s/it]"
     ]
    }
   ],
   "source": [
    "!python demo.py -m n_round=20 strategy_name=LeastConfidenceMocoMarginV2 init_strategy=\"kmeans\" seed=6"
   ]
  },
  {
   "cell_type": "code",
   "execution_count": null,
   "id": "7481c18d-6b92-4edc-be96-107cc24b810a",
   "metadata": {},
   "outputs": [],
   "source": []
  }
 ],
 "metadata": {
  "kernelspec": {
   "display_name": "1 Python 3 (based on the module python3/2023.01)",
   "language": "python",
   "name": "python3_2023_01"
  },
  "language_info": {
   "codemirror_mode": {
    "name": "ipython",
    "version": 3
   },
   "file_extension": ".py",
   "mimetype": "text/x-python",
   "name": "python",
   "nbconvert_exporter": "python",
   "pygments_lexer": "ipython3",
   "version": "3.10.10"
  }
 },
 "nbformat": 4,
 "nbformat_minor": 5
}
