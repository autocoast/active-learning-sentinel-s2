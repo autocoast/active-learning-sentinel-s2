{
 "cells": [
  {
   "cell_type": "code",
   "execution_count": 2,
   "id": "54de752e-f019-49de-b6ad-35de22e701e6",
   "metadata": {},
   "outputs": [],
   "source": [
    "import csv\n",
    "from collections import defaultdict\n",
    "\n",
    "def filter_experiments_with_11_runs(input_file, output_file):\n",
    "    # Dictionary to store data grouped by (query_strategy, experiment_id)\n",
    "    data = defaultdict(list)\n",
    "    \n",
    "    # Read the input file and group by (query_strategy, experiment_id)\n",
    "    with open(input_file, 'r') as f:\n",
    "        reader = csv.reader(f)\n",
    "        for row in reader:\n",
    "            query_strategy, _, experiment_id, _ = row\n",
    "            data[(query_strategy, experiment_id)].append(row)\n",
    "    \n",
    "    # Filter out entries that have exactly 11 rows per experiment_id for each query strategy\n",
    "    filtered_data = []\n",
    "    for (query_strategy, experiment_id), rows in data.items():\n",
    "        if len(rows) == 11:\n",
    "            filtered_data.extend(rows)\n",
    "    \n",
    "    # Write the filtered data to the output file\n",
    "    with open(output_file, 'w', newline='') as f:\n",
    "        writer = csv.writer(f)\n",
    "        writer.writerows(filtered_data)\n",
    "\n",
    "# Example usage\n",
    "input_file = 'v2_unbalance_experiments_n16_e15'   # Replace with your input file name\n",
    "output_file = 'v3_unbalance_experiments_n16_e15' # Replace with your desired output file name\n",
    "filter_experiments_with_11_runs(input_file, output_file)\n"
   ]
  },
  {
   "cell_type": "code",
   "execution_count": null,
   "id": "759bc28d-91de-4c96-9b32-a1afdaed5986",
   "metadata": {},
   "outputs": [],
   "source": []
  }
 ],
 "metadata": {
  "kernelspec": {
   "display_name": "ML (based on the latest module pytorch)",
   "language": "python",
   "name": "ml-aim"
  },
  "language_info": {
   "codemirror_mode": {
    "name": "ipython",
    "version": 3
   },
   "file_extension": ".py",
   "mimetype": "text/x-python",
   "name": "python",
   "nbconvert_exporter": "python",
   "pygments_lexer": "ipython3",
   "version": "3.10.10"
  }
 },
 "nbformat": 4,
 "nbformat_minor": 5
}
