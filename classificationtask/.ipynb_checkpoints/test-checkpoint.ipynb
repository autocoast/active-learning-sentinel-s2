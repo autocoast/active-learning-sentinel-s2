{
 "cells": [
  {
   "cell_type": "code",
   "execution_count": null,
   "id": "6dabf805-3245-4648-afec-981eb1496148",
   "metadata": {},
   "outputs": [],
   "source": [
    "from time import time\n",
    "a = time()\n",
    "!python demo_module.py -m balance=False strategy_name=BALDDropout seed=3 init_strategy=kmeans\n",
    "print(time() - a)"
   ]
  },
  {
   "cell_type": "markdown",
   "id": "ad3c186c-4875-4fe8-a195-4b2025438944",
   "metadata": {},
   "source": [
    "2"
   ]
  },
  {
   "cell_type": "code",
   "execution_count": null,
   "id": "5b2eadc2-cf06-4f83-8f56-a98dccb00a3b",
   "metadata": {},
   "outputs": [],
   "source": []
  },
  {
   "cell_type": "code",
   "execution_count": null,
   "id": "ab3ccf31-f8a9-4850-956b-bf6e3d71e124",
   "metadata": {},
   "outputs": [],
   "source": []
  },
  {
   "cell_type": "code",
   "execution_count": null,
   "id": "9b974a29-7b39-4f83-913f-c1b38ba6430c",
   "metadata": {},
   "outputs": [],
   "source": []
  },
  {
   "cell_type": "code",
   "execution_count": null,
   "id": "4fc1abe5-2679-4ada-bae0-907b044e22da",
   "metadata": {},
   "outputs": [],
   "source": []
  },
  {
   "cell_type": "code",
   "execution_count": null,
   "id": "bebe4edb-3cda-462f-8d80-161d2618b65f",
   "metadata": {},
   "outputs": [],
   "source": []
  },
  {
   "cell_type": "code",
   "execution_count": null,
   "id": "03d7232e-fb95-45b7-b187-08325bac82b4",
   "metadata": {},
   "outputs": [],
   "source": []
  },
  {
   "cell_type": "code",
   "execution_count": 2,
   "id": "d99eb2b1-5718-45df-b7b9-793f016a8711",
   "metadata": {},
   "outputs": [],
   "source": [
    "import torch"
   ]
  },
  {
   "cell_type": "code",
   "execution_count": 3,
   "id": "f06fda8b-1143-47e8-97eb-30ed63cec95e",
   "metadata": {},
   "outputs": [],
   "source": [
    "a = torch.load('/work/gg0877/g260217/al_paper/eurosat_s2_al/imbalance_42_test_x.pt')\n",
    "b = torch.load('/work/gg0877/g260217/al_paper/eurosat_s2_al/imbalance_42_test_y.pt')"
   ]
  },
  {
   "cell_type": "code",
   "execution_count": 4,
   "id": "030cc81a-841f-4ea3-b93b-fc6a48b1275e",
   "metadata": {},
   "outputs": [
    {
     "data": {
      "text/plain": [
       "torch.Size([5400, 13, 224, 224])"
      ]
     },
     "execution_count": 4,
     "metadata": {},
     "output_type": "execute_result"
    }
   ],
   "source": [
    "a.shape"
   ]
  },
  {
   "cell_type": "code",
   "execution_count": 11,
   "id": "f9c79fa6-f89f-4073-9369-12fb032b11c1",
   "metadata": {},
   "outputs": [
    {
     "data": {
      "text/plain": [
       "(array([0, 1, 2, 3, 4, 5, 6, 7, 8, 9]),\n",
       " array([600, 600, 600, 500, 500, 400, 500, 600, 500, 600]))"
      ]
     },
     "execution_count": 11,
     "metadata": {},
     "output_type": "execute_result"
    }
   ],
   "source": [
    "import matplotlib.pyplot as plt\n",
    "import numpy as np\n",
    "np.unique(b.numpy(), return_counts=True)"
   ]
  },
  {
   "cell_type": "code",
   "execution_count": 12,
   "id": "5f86e852-d9eb-4f7c-999d-d5ab8aadb88e",
   "metadata": {},
   "outputs": [],
   "source": [
    "filtered_x = torch.zeros((540*2, 13, 224, 224))\n",
    "filtered_y = torch.zeros((540*2))"
   ]
  },
  {
   "cell_type": "code",
   "execution_count": 13,
   "id": "0abaa53e-83c4-49ce-9f3c-d7e62610ef30",
   "metadata": {},
   "outputs": [
    {
     "ename": "AttributeError",
     "evalue": "'float' object has no attribute 'shape'",
     "output_type": "error",
     "traceback": [
      "\u001b[0;31m---------------------------------------------------------------------------\u001b[0m",
      "\u001b[0;31mAttributeError\u001b[0m                            Traceback (most recent call last)",
      "Cell \u001b[0;32mIn[13], line 2\u001b[0m\n\u001b[1;32m      1\u001b[0m c \u001b[38;5;241m=\u001b[39m \u001b[38;5;241m0\u001b[39m\n\u001b[0;32m----> 2\u001b[0m \u001b[38;5;28;01mfor\u001b[39;00m i \u001b[38;5;129;01min\u001b[39;00m \u001b[38;5;28mrange\u001b[39m(\u001b[43ma\u001b[49m\u001b[38;5;241;43m.\u001b[39;49m\u001b[43mshape\u001b[49m[\u001b[38;5;241m0\u001b[39m]):\n\u001b[1;32m      3\u001b[0m     \u001b[38;5;28;01mif\u001b[39;00m i \u001b[38;5;241m%\u001b[39m \u001b[38;5;241m5\u001b[39m \u001b[38;5;241m==\u001b[39m \u001b[38;5;241m0\u001b[39m:\n\u001b[1;32m      4\u001b[0m         filtered_x[c] \u001b[38;5;241m=\u001b[39m a[i]\n",
      "\u001b[0;31mAttributeError\u001b[0m: 'float' object has no attribute 'shape'"
     ]
    }
   ],
   "source": [
    "c = 0\n",
    "for i in range(a.shape[0]):\n",
    "    if i % 5 == 0:\n",
    "        filtered_x[c] = a[i]\n",
    "        filtered_y[c] = b[i]\n",
    "        c += 1"
   ]
  },
  {
   "cell_type": "code",
   "execution_count": 8,
   "id": "104cf8bb-c16a-4c99-9dc8-b2aa6659a7e9",
   "metadata": {},
   "outputs": [
    {
     "data": {
      "text/plain": [
       "(array([0., 1., 2., 3., 4., 5., 6., 7., 8., 9.], dtype=float32),\n",
       " array([109, 141, 115,  91, 102,  84,  99, 124,  84, 131]))"
      ]
     },
     "execution_count": 8,
     "metadata": {},
     "output_type": "execute_result"
    }
   ],
   "source": [
    "np.unique(filtered_y.numpy(), return_counts=True)"
   ]
  },
  {
   "cell_type": "code",
   "execution_count": 9,
   "id": "4ad0537b-cfe6-411d-a14b-94a114c73e75",
   "metadata": {},
   "outputs": [],
   "source": [
    "torch.save(filtered_x.float(), \"/work/gg0877/g260217/al_paper/eurosat_s2_al/eurosat_x_small.pt\")\n",
    "torch.save(filtered_y.long(), \"/work/gg0877/g260217/al_paper/eurosat_s2_al/eurosat_y_small.pt\")"
   ]
  },
  {
   "cell_type": "code",
   "execution_count": null,
   "id": "2dab30d7-4087-48e7-95c0-66b8ed7af1c4",
   "metadata": {},
   "outputs": [],
   "source": []
  }
 ],
 "metadata": {
  "kernelspec": {
   "display_name": "1 Python 3 (based on the module python3/2023.01)",
   "language": "python",
   "name": "python3_2023_01"
  },
  "language_info": {
   "codemirror_mode": {
    "name": "ipython",
    "version": 3
   },
   "file_extension": ".py",
   "mimetype": "text/x-python",
   "name": "python",
   "nbconvert_exporter": "python",
   "pygments_lexer": "ipython3",
   "version": "3.10.10"
  }
 },
 "nbformat": 4,
 "nbformat_minor": 5
}
